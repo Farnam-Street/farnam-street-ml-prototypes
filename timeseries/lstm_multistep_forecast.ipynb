{
 "cells": [
  {
   "cell_type": "code",
   "execution_count": 179,
   "metadata": {},
   "outputs": [],
   "source": [
    "import tensorflow\n",
    "import pandas as pd\n",
    "import matplotlib.pyplot as plt\n",
    "import numpy as np\n",
    "from math import sqrt\n",
    "from numpy import array\n",
    "from numpy import mean\n",
    "from pandas import DataFrame\n",
    "from pandas import concat\n",
    "from pandas import read_csv\n",
    "from sklearn.metrics import mean_squared_error\n",
    "from keras.models import Sequential\n",
    "from keras.layers import Dense\n",
    "from keras.layers import LSTM\n",
    "from sklearn.preprocessing import MinMaxScaler\n",
    "from keras.models import Sequential\n",
    "from keras.layers import LSTM\n",
    "from keras.layers import Dense\n",
    "from keras.layers import RepeatVector \n",
    "from keras.layers import TimeDistributed"
   ]
  },
  {
   "cell_type": "code",
   "execution_count": 180,
   "metadata": {},
   "outputs": [],
   "source": [
    "DATE = 'date'\n",
    "CLOSE_PRICE = 'close'"
   ]
  },
  {
   "cell_type": "code",
   "execution_count": 181,
   "metadata": {},
   "outputs": [],
   "source": [
    "### Reading Data from Product Demand Sample Data file and Filtering by One Product"
   ]
  },
  {
   "cell_type": "code",
   "execution_count": 182,
   "metadata": {},
   "outputs": [
    {
     "data": {
      "text/html": [
       "<div>\n",
       "<style scoped>\n",
       "    .dataframe tbody tr th:only-of-type {\n",
       "        vertical-align: middle;\n",
       "    }\n",
       "\n",
       "    .dataframe tbody tr th {\n",
       "        vertical-align: top;\n",
       "    }\n",
       "\n",
       "    .dataframe thead th {\n",
       "        text-align: right;\n",
       "    }\n",
       "</style>\n",
       "<table border=\"1\" class=\"dataframe\">\n",
       "  <thead>\n",
       "    <tr style=\"text-align: right;\">\n",
       "      <th></th>\n",
       "      <th>volume</th>\n",
       "      <th>open</th>\n",
       "      <th>close</th>\n",
       "      <th>high</th>\n",
       "      <th>low</th>\n",
       "      <th>adjclose</th>\n",
       "    </tr>\n",
       "    <tr>\n",
       "      <th>date</th>\n",
       "      <th></th>\n",
       "      <th></th>\n",
       "      <th></th>\n",
       "      <th></th>\n",
       "      <th></th>\n",
       "      <th></th>\n",
       "    </tr>\n",
       "  </thead>\n",
       "  <tbody>\n",
       "    <tr>\n",
       "      <th>2004-08-19</th>\n",
       "      <td>44994500</td>\n",
       "      <td>49.676899</td>\n",
       "      <td>49.845802</td>\n",
       "      <td>51.693783</td>\n",
       "      <td>47.669952</td>\n",
       "      <td>49.845802</td>\n",
       "    </tr>\n",
       "    <tr>\n",
       "      <th>2004-08-20</th>\n",
       "      <td>23005800</td>\n",
       "      <td>50.178635</td>\n",
       "      <td>53.805050</td>\n",
       "      <td>54.187561</td>\n",
       "      <td>49.925285</td>\n",
       "      <td>53.805050</td>\n",
       "    </tr>\n",
       "    <tr>\n",
       "      <th>2004-08-23</th>\n",
       "      <td>18393200</td>\n",
       "      <td>55.017166</td>\n",
       "      <td>54.346527</td>\n",
       "      <td>56.373344</td>\n",
       "      <td>54.172661</td>\n",
       "      <td>54.346527</td>\n",
       "    </tr>\n",
       "    <tr>\n",
       "      <th>2004-08-24</th>\n",
       "      <td>15361800</td>\n",
       "      <td>55.260582</td>\n",
       "      <td>52.096165</td>\n",
       "      <td>55.439419</td>\n",
       "      <td>51.450363</td>\n",
       "      <td>52.096165</td>\n",
       "    </tr>\n",
       "    <tr>\n",
       "      <th>2004-08-25</th>\n",
       "      <td>9257400</td>\n",
       "      <td>52.140873</td>\n",
       "      <td>52.657513</td>\n",
       "      <td>53.651051</td>\n",
       "      <td>51.604362</td>\n",
       "      <td>52.657513</td>\n",
       "    </tr>\n",
       "    <tr>\n",
       "      <th>2004-08-26</th>\n",
       "      <td>7148200</td>\n",
       "      <td>52.135906</td>\n",
       "      <td>53.606342</td>\n",
       "      <td>53.626213</td>\n",
       "      <td>51.991844</td>\n",
       "      <td>53.606342</td>\n",
       "    </tr>\n",
       "    <tr>\n",
       "      <th>2004-08-27</th>\n",
       "      <td>6258300</td>\n",
       "      <td>53.700729</td>\n",
       "      <td>52.732029</td>\n",
       "      <td>53.959049</td>\n",
       "      <td>52.503513</td>\n",
       "      <td>52.732029</td>\n",
       "    </tr>\n",
       "    <tr>\n",
       "      <th>2004-08-30</th>\n",
       "      <td>5235700</td>\n",
       "      <td>52.299839</td>\n",
       "      <td>50.675404</td>\n",
       "      <td>52.404160</td>\n",
       "      <td>50.675404</td>\n",
       "      <td>50.675404</td>\n",
       "    </tr>\n",
       "    <tr>\n",
       "      <th>2004-08-31</th>\n",
       "      <td>4954800</td>\n",
       "      <td>50.819469</td>\n",
       "      <td>50.854240</td>\n",
       "      <td>51.519913</td>\n",
       "      <td>50.749920</td>\n",
       "      <td>50.854240</td>\n",
       "    </tr>\n",
       "    <tr>\n",
       "      <th>2004-09-01</th>\n",
       "      <td>9206800</td>\n",
       "      <td>51.018177</td>\n",
       "      <td>49.801090</td>\n",
       "      <td>51.152302</td>\n",
       "      <td>49.512966</td>\n",
       "      <td>49.801090</td>\n",
       "    </tr>\n",
       "  </tbody>\n",
       "</table>\n",
       "</div>"
      ],
      "text/plain": [
       "              volume       open      close       high        low   adjclose\n",
       "date                                                                       \n",
       "2004-08-19  44994500  49.676899  49.845802  51.693783  47.669952  49.845802\n",
       "2004-08-20  23005800  50.178635  53.805050  54.187561  49.925285  53.805050\n",
       "2004-08-23  18393200  55.017166  54.346527  56.373344  54.172661  54.346527\n",
       "2004-08-24  15361800  55.260582  52.096165  55.439419  51.450363  52.096165\n",
       "2004-08-25   9257400  52.140873  52.657513  53.651051  51.604362  52.657513\n",
       "2004-08-26   7148200  52.135906  53.606342  53.626213  51.991844  53.606342\n",
       "2004-08-27   6258300  53.700729  52.732029  53.959049  52.503513  52.732029\n",
       "2004-08-30   5235700  52.299839  50.675404  52.404160  50.675404  50.675404\n",
       "2004-08-31   4954800  50.819469  50.854240  51.519913  50.749920  50.854240\n",
       "2004-09-01   9206800  51.018177  49.801090  51.152302  49.512966  49.801090"
      ]
     },
     "execution_count": 182,
     "metadata": {},
     "output_type": "execute_result"
    }
   ],
   "source": [
    "df = pd.read_csv('GOOG.csv' ,encoding='utf-8',nrows=100000)\n",
    "\n",
    "df[DATE]= pd.to_datetime(df[DATE]) \n",
    "df.head()\n",
    "df = df.set_index(DATE)\n",
    "df = df.sort_index()\n",
    "df.head(10)"
   ]
  },
  {
   "cell_type": "code",
   "execution_count": 183,
   "metadata": {},
   "outputs": [],
   "source": [
    "### Coverting into a multivariate timeseries data"
   ]
  },
  {
   "cell_type": "code",
   "execution_count": 184,
   "metadata": {},
   "outputs": [
    {
     "data": {
      "text/html": [
       "<div>\n",
       "<style scoped>\n",
       "    .dataframe tbody tr th:only-of-type {\n",
       "        vertical-align: middle;\n",
       "    }\n",
       "\n",
       "    .dataframe tbody tr th {\n",
       "        vertical-align: top;\n",
       "    }\n",
       "\n",
       "    .dataframe thead th {\n",
       "        text-align: right;\n",
       "    }\n",
       "</style>\n",
       "<table border=\"1\" class=\"dataframe\">\n",
       "  <thead>\n",
       "    <tr style=\"text-align: right;\">\n",
       "      <th></th>\n",
       "      <th>close</th>\n",
       "    </tr>\n",
       "    <tr>\n",
       "      <th>date</th>\n",
       "      <th></th>\n",
       "    </tr>\n",
       "  </thead>\n",
       "  <tbody>\n",
       "    <tr>\n",
       "      <th>2004-08-19</th>\n",
       "      <td>49.845802</td>\n",
       "    </tr>\n",
       "    <tr>\n",
       "      <th>2004-08-20</th>\n",
       "      <td>53.805050</td>\n",
       "    </tr>\n",
       "    <tr>\n",
       "      <th>2004-08-23</th>\n",
       "      <td>54.346527</td>\n",
       "    </tr>\n",
       "    <tr>\n",
       "      <th>2004-08-24</th>\n",
       "      <td>52.096165</td>\n",
       "    </tr>\n",
       "    <tr>\n",
       "      <th>2004-08-25</th>\n",
       "      <td>52.657513</td>\n",
       "    </tr>\n",
       "    <tr>\n",
       "      <th>2004-08-26</th>\n",
       "      <td>53.606342</td>\n",
       "    </tr>\n",
       "    <tr>\n",
       "      <th>2004-08-27</th>\n",
       "      <td>52.732029</td>\n",
       "    </tr>\n",
       "    <tr>\n",
       "      <th>2004-08-30</th>\n",
       "      <td>50.675404</td>\n",
       "    </tr>\n",
       "    <tr>\n",
       "      <th>2004-08-31</th>\n",
       "      <td>50.854240</td>\n",
       "    </tr>\n",
       "    <tr>\n",
       "      <th>2004-09-01</th>\n",
       "      <td>49.801090</td>\n",
       "    </tr>\n",
       "  </tbody>\n",
       "</table>\n",
       "</div>"
      ],
      "text/plain": [
       "                close\n",
       "date                 \n",
       "2004-08-19  49.845802\n",
       "2004-08-20  53.805050\n",
       "2004-08-23  54.346527\n",
       "2004-08-24  52.096165\n",
       "2004-08-25  52.657513\n",
       "2004-08-26  53.606342\n",
       "2004-08-27  52.732029\n",
       "2004-08-30  50.675404\n",
       "2004-08-31  50.854240\n",
       "2004-09-01  49.801090"
      ]
     },
     "execution_count": 184,
     "metadata": {},
     "output_type": "execute_result"
    }
   ],
   "source": [
    "df = df[[CLOSE_PRICE]]\n",
    "df[CLOSE_PRICE] =  df[CLOSE_PRICE].astype('float64')\n",
    "df.head(10)"
   ]
  },
  {
   "cell_type": "code",
   "execution_count": 185,
   "metadata": {},
   "outputs": [
    {
     "data": {
      "text/plain": [
       "<matplotlib.axes._subplots.AxesSubplot at 0x7fc3f8802b50>"
      ]
     },
     "execution_count": 185,
     "metadata": {},
     "output_type": "execute_result"
    },
    {
     "data": {
      "image/png": "[encoded data removed]",
      "text/plain": [
       "<Figure size 1080x576 with 1 Axes>"
      ]
     },
     "metadata": {
      "needs_background": "light"
     },
     "output_type": "display_data"
    }
   ],
   "source": [
    "df.plot(use_index=True,figsize=(15,8))"
   ]
  },
  {
   "cell_type": "markdown",
   "metadata": {},
   "source": [
    "### Remove Trend and Display the Graph"
   ]
  },
  {
   "cell_type": "code",
   "execution_count": null,
   "metadata": {},
   "outputs": [],
   "source": []
  },
  {
   "cell_type": "code",
   "execution_count": 201,
   "metadata": {},
   "outputs": [],
   "source": [
    "# transform scale\n",
    "data = df.values\n",
    "# data = X.reshape(len(X), 1)\n",
    "# scaler = MinMaxScaler(feature_range=(0, 1))\n",
    "# scaler = scaler.fit(data)\n",
    "# data = scaler.transform(data)\n",
    "# data[-10:]"
   ]
  },
  {
   "cell_type": "code",
   "execution_count": null,
   "metadata": {},
   "outputs": [],
   "source": []
  },
  {
   "cell_type": "code",
   "execution_count": 202,
   "metadata": {},
   "outputs": [],
   "source": [
    "def split_sequence(sequence, n_steps_in, n_steps_out): \n",
    "    X, y = list(), list()\n",
    "    for i in range(len(sequence)):\n",
    "    # find the end of this pattern\n",
    "        end_ix = i + n_steps_in\n",
    "        out_end_ix = end_ix + n_steps_out\n",
    "        if out_end_ix > len(sequence):\n",
    "            break\n",
    "    # gather input and output parts of the pattern\n",
    "        seq_x, seq_y = sequence[i:end_ix], sequence[end_ix:out_end_ix]\n",
    "        X.append(seq_x)\n",
    "        y.append(seq_y)\n",
    "    return array(X), array(y)"
   ]
  },
  {
   "cell_type": "code",
   "execution_count": 203,
   "metadata": {},
   "outputs": [],
   "source": [
    "STEPS_IN = 30\n",
    "STEPS_OUT = 7\n",
    "X,y = split_sequence(data, STEPS_IN, STEPS_OUT)\n"
   ]
  },
  {
   "cell_type": "code",
   "execution_count": 189,
   "metadata": {},
   "outputs": [
    {
     "name": "stdout",
     "output_type": "stream",
     "text": [
      "(3656, 30, 1)\n",
      "(3656, 7, 1)\n"
     ]
    }
   ],
   "source": [
    "print(X.shape)\n",
    "print(y.shape)\n",
    "# for i in range(len(X)):\n",
    "#   print(X[i], y[i])"
   ]
  },
  {
   "cell_type": "code",
   "execution_count": null,
   "metadata": {},
   "outputs": [],
   "source": []
  },
  {
   "cell_type": "code",
   "execution_count": 190,
   "metadata": {},
   "outputs": [
    {
     "data": {
      "text/plain": [
       "(3656, 30, 1)"
      ]
     },
     "execution_count": 190,
     "metadata": {},
     "output_type": "execute_result"
    }
   ],
   "source": [
    "n_features = 1\n",
    "X_transformed = X.reshape((X.shape[0], X.shape[1], n_features))\n",
    "y_transformed = y.reshape((y.shape[0], y.shape[1], n_features))\n",
    "X_transformed.shape"
   ]
  },
  {
   "cell_type": "code",
   "execution_count": 191,
   "metadata": {},
   "outputs": [
    {
     "data": {
      "text/plain": [
       "(3656, 7, 1)"
      ]
     },
     "execution_count": 191,
     "metadata": {},
     "output_type": "execute_result"
    }
   ],
   "source": [
    "y_transformed.shape"
   ]
  },
  {
   "cell_type": "markdown",
   "metadata": {},
   "source": [
    "### Model Definition"
   ]
  },
  {
   "cell_type": "code",
   "execution_count": 208,
   "metadata": {},
   "outputs": [],
   "source": [
    "# define model\n",
    "model = Sequential()\n",
    "model.add(LSTM(100, activation='relu', input_shape=(n_steps_in, n_features))) \n",
    "model.add(RepeatVector(n_steps_out))\n",
    "model.add(LSTM(100, activation='relu', return_sequences=True)) \n",
    "model.add(TimeDistributed(Dense(1)))\n",
    "model.compile(optimizer='adam', loss='mse')"
   ]
  },
  {
   "cell_type": "code",
   "execution_count": 209,
   "metadata": {},
   "outputs": [
    {
     "name": "stdout",
     "output_type": "stream",
     "text": [
      "Epoch 1/40\n",
      "3656/3656 [==============================] - 2s 622us/step - loss: 90006.0748\n",
      "Epoch 2/40\n",
      "3656/3656 [==============================] - 2s 455us/step - loss: 146947.6518\n",
      "Epoch 3/40\n",
      "3656/3656 [==============================] - 2s 451us/step - loss: 1228.8384\n",
      "Epoch 4/40\n",
      "3656/3656 [==============================] - 2s 449us/step - loss: 1211.8931\n",
      "Epoch 5/40\n",
      "3656/3656 [==============================] - 2s 450us/step - loss: 1513.6434\n",
      "Epoch 6/40\n",
      "3656/3656 [==============================] - 2s 448us/step - loss: 111096.6003\n",
      "Epoch 7/40\n",
      "3656/3656 [==============================] - 2s 450us/step - loss: 19372.3102\n",
      "Epoch 8/40\n",
      "3656/3656 [==============================] - 2s 454us/step - loss: 4625.1066\n",
      "Epoch 9/40\n",
      "3656/3656 [==============================] - 2s 448us/step - loss: 2652.8524\n",
      "Epoch 10/40\n",
      "3656/3656 [==============================] - 2s 448us/step - loss: 1963.1511\n",
      "Epoch 11/40\n",
      "3656/3656 [==============================] - 2s 455us/step - loss: 14988.8664\n",
      "Epoch 12/40\n",
      "3656/3656 [==============================] - 2s 448us/step - loss: 1114.0376\n",
      "Epoch 13/40\n",
      "3656/3656 [==============================] - 2s 453us/step - loss: 828.5410\n",
      "Epoch 14/40\n",
      "3656/3656 [==============================] - 2s 457us/step - loss: 647.3832\n",
      "Epoch 15/40\n",
      "3656/3656 [==============================] - 2s 452us/step - loss: 550.3083\n",
      "Epoch 16/40\n",
      "3656/3656 [==============================] - 2s 449us/step - loss: 533.1167\n",
      "Epoch 17/40\n",
      "3656/3656 [==============================] - 2s 451us/step - loss: 528.7986\n",
      "Epoch 18/40\n",
      "3656/3656 [==============================] - 2s 449us/step - loss: 524.4318\n",
      "Epoch 19/40\n",
      "3656/3656 [==============================] - 2s 448us/step - loss: 481.9725\n",
      "Epoch 20/40\n",
      "3656/3656 [==============================] - 2s 453us/step - loss: 484.4439\n",
      "Epoch 21/40\n",
      "3656/3656 [==============================] - 2s 453us/step - loss: 711.3896\n",
      "Epoch 22/40\n",
      "3656/3656 [==============================] - 2s 454us/step - loss: 779.4494\n",
      "Epoch 23/40\n",
      "3656/3656 [==============================] - 2s 453us/step - loss: 793.0095\n",
      "Epoch 24/40\n",
      "3656/3656 [==============================] - 2s 457us/step - loss: 691.9401\n",
      "Epoch 25/40\n",
      "3656/3656 [==============================] - 2s 458us/step - loss: 701.5730\n",
      "Epoch 26/40\n",
      "3656/3656 [==============================] - 2s 460us/step - loss: 616.9931\n",
      "Epoch 27/40\n",
      "3656/3656 [==============================] - 2s 458us/step - loss: 666.0492\n",
      "Epoch 28/40\n",
      "3656/3656 [==============================] - 2s 462us/step - loss: 767.6550\n",
      "Epoch 29/40\n",
      "3656/3656 [==============================] - 2s 459us/step - loss: 606.6396\n",
      "Epoch 30/40\n",
      "3656/3656 [==============================] - 2s 458us/step - loss: 614.6343\n",
      "Epoch 31/40\n",
      "3656/3656 [==============================] - 2s 459us/step - loss: 751.4699\n",
      "Epoch 32/40\n",
      "3656/3656 [==============================] - 2s 464us/step - loss: 681.2363\n",
      "Epoch 33/40\n",
      "3656/3656 [==============================] - 2s 460us/step - loss: 654.1682\n",
      "Epoch 34/40\n",
      "3656/3656 [==============================] - 2s 462us/step - loss: 555.8627\n",
      "Epoch 35/40\n",
      "3656/3656 [==============================] - 2s 465us/step - loss: 679.7539\n",
      "Epoch 36/40\n",
      "3656/3656 [==============================] - 2s 461us/step - loss: 633.7745\n",
      "Epoch 37/40\n",
      "3656/3656 [==============================] - 2s 463us/step - loss: 516.2250\n",
      "Epoch 38/40\n",
      "3656/3656 [==============================] - 2s 467us/step - loss: 553.3337\n",
      "Epoch 39/40\n",
      "3656/3656 [==============================] - 2s 469us/step - loss: 555.7801\n",
      "Epoch 40/40\n",
      "3656/3656 [==============================] - 2s 468us/step - loss: 690.0342\n"
     ]
    },
    {
     "data": {
      "text/plain": [
       "<keras.callbacks.callbacks.History at 0x7fc479cc9fd0>"
      ]
     },
     "execution_count": 209,
     "metadata": {},
     "output_type": "execute_result"
    }
   ],
   "source": [
    "# fit model\n",
    "model.fit(X_transformed, y_transformed, epochs=40, verbose=1)"
   ]
  },
  {
   "cell_type": "code",
   "execution_count": 217,
   "metadata": {},
   "outputs": [],
   "source": [
    "def visualize_predictions(x_input, y):\n",
    "#     x_input = data[-67:-37]\n",
    "    x_input = x_input.reshape((1, 30, 1))\n",
    "#     y = data[-37:-30]\n",
    "    y_pred = model.predict(x_input, verbose=0).ravel()\n",
    "#     print(y_pred)\n",
    "    mse = np.mean((y - y_pred)**2)\n",
    "    return y_pred\n",
    "#     plt.figure(figsize=(8,4))\n",
    "#     plt.plot(y, label='actual_data')\n",
    "#     plt.plot(y_pred, label='predicted_data')\n",
    "#     plt.legend()\n",
    "#     plt.show()"
   ]
  },
  {
   "cell_type": "code",
   "execution_count": null,
   "metadata": {},
   "outputs": [],
   "source": []
  },
  {
   "cell_type": "code",
   "execution_count": 227,
   "metadata": {},
   "outputs": [],
   "source": [
    "total_y_actual = []\n",
    "total_y_pred = []\n",
    "for i in range(2,50):\n",
    "    X_test = X[-i].ravel()\n",
    "    y_test = y[-i].ravel()\n",
    "    total_y_actual.append(y_test)\n",
    "    total_y_pred.append(visualize_predictions(X_test, y_test))\n",
    "    "
   ]
  },
  {
   "cell_type": "code",
   "execution_count": 228,
   "metadata": {},
   "outputs": [
    {
     "data": {
      "image/png": "[encoded data removed]",
      "text/plain": [
       "<Figure size 576x288 with 1 Axes>"
      ]
     },
     "metadata": {
      "needs_background": "light"
     },
     "output_type": "display_data"
    }
   ],
   "source": [
    "plt.figure(figsize=(8,4))\n",
    "plt.plot(np.array(total_y_actual[:-1]).ravel(), label='actual_data')\n",
    "plt.plot(np.array(total_y_pred[:-1]).ravel(), label='predicted_data')\n",
    "plt.legend()\n",
    "plt.show()"
   ]
  },
  {
   "cell_type": "code",
   "execution_count": null,
   "metadata": {},
   "outputs": [],
   "source": []
  },
  {
   "cell_type": "code",
   "execution_count": null,
   "metadata": {},
   "outputs": [],
   "source": []
  }
 ],
 "metadata": {
  "kernelspec": {
   "display_name": "Python 3.7.6 64-bit ('anaconda3': conda)",
   "language": "python",
   "name": "python37664bitanaconda3conda110d9871368d49528428b92d77c8955b"
  },
  "language_info": {
   "codemirror_mode": {
    "name": "ipython",
    "version": 3
   },
   "file_extension": ".py",
   "mimetype": "text/x-python",
   "name": "python",
   "nbconvert_exporter": "python",
   "pygments_lexer": "ipython3",
   "version": "3.7.6"
  }
 },
 "nbformat": 4,
 "nbformat_minor": 4
}
