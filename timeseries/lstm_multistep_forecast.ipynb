{
 "cells": [
  {
   "cell_type": "code",
   "execution_count": 105,
   "metadata": {},
   "outputs": [],
   "source": [
    "import tensorflow\n",
    "import pandas as pd\n",
    "import matplotlib.pyplot as plt\n",
    "import numpy as np\n",
    "from math import sqrt\n",
    "from numpy import array\n",
    "from numpy import mean\n",
    "from pandas import DataFrame\n",
    "from pandas import concat\n",
    "from pandas import read_csv\n",
    "from sklearn.metrics import mean_squared_error\n",
    "from keras.models import Sequential\n",
    "from keras.layers import Dense\n",
    "from keras.layers import LSTM\n",
    "from sklearn.preprocessing import MinMaxScaler\n",
    "from keras.models import Sequential\n",
    "from keras.layers import LSTM\n",
    "from keras.layers import Dense\n",
    "from keras.layers import RepeatVector \n",
    "from keras.layers import TimeDistributed"
   ]
  },
  {
   "cell_type": "code",
   "execution_count": 106,
   "metadata": {},
   "outputs": [],
   "source": [
    "DATE = 'date'\n",
    "CLOSE_PRICE = 'close'"
   ]
  },
  {
   "cell_type": "code",
   "execution_count": 107,
   "metadata": {},
   "outputs": [],
   "source": [
    "### Reading Data from Product Demand Sample Data file and Filtering by One Product"
   ]
  },
  {
   "cell_type": "code",
   "execution_count": 108,
   "metadata": {},
   "outputs": [
    {
     "data": {
      "text/html": [
       "<div>\n",
       "<style scoped>\n",
       "    .dataframe tbody tr th:only-of-type {\n",
       "        vertical-align: middle;\n",
       "    }\n",
       "\n",
       "    .dataframe tbody tr th {\n",
       "        vertical-align: top;\n",
       "    }\n",
       "\n",
       "    .dataframe thead th {\n",
       "        text-align: right;\n",
       "    }\n",
       "</style>\n",
       "<table border=\"1\" class=\"dataframe\">\n",
       "  <thead>\n",
       "    <tr style=\"text-align: right;\">\n",
       "      <th></th>\n",
       "      <th>volume</th>\n",
       "      <th>open</th>\n",
       "      <th>close</th>\n",
       "      <th>high</th>\n",
       "      <th>low</th>\n",
       "      <th>adjclose</th>\n",
       "    </tr>\n",
       "    <tr>\n",
       "      <th>date</th>\n",
       "      <th></th>\n",
       "      <th></th>\n",
       "      <th></th>\n",
       "      <th></th>\n",
       "      <th></th>\n",
       "      <th></th>\n",
       "    </tr>\n",
       "  </thead>\n",
       "  <tbody>\n",
       "    <tr>\n",
       "      <th>2004-08-19</th>\n",
       "      <td>44994500</td>\n",
       "      <td>49.676899</td>\n",
       "      <td>49.845802</td>\n",
       "      <td>51.693783</td>\n",
       "      <td>47.669952</td>\n",
       "      <td>49.845802</td>\n",
       "    </tr>\n",
       "    <tr>\n",
       "      <th>2004-08-20</th>\n",
       "      <td>23005800</td>\n",
       "      <td>50.178635</td>\n",
       "      <td>53.805050</td>\n",
       "      <td>54.187561</td>\n",
       "      <td>49.925285</td>\n",
       "      <td>53.805050</td>\n",
       "    </tr>\n",
       "    <tr>\n",
       "      <th>2004-08-23</th>\n",
       "      <td>18393200</td>\n",
       "      <td>55.017166</td>\n",
       "      <td>54.346527</td>\n",
       "      <td>56.373344</td>\n",
       "      <td>54.172661</td>\n",
       "      <td>54.346527</td>\n",
       "    </tr>\n",
       "    <tr>\n",
       "      <th>2004-08-24</th>\n",
       "      <td>15361800</td>\n",
       "      <td>55.260582</td>\n",
       "      <td>52.096165</td>\n",
       "      <td>55.439419</td>\n",
       "      <td>51.450363</td>\n",
       "      <td>52.096165</td>\n",
       "    </tr>\n",
       "    <tr>\n",
       "      <th>2004-08-25</th>\n",
       "      <td>9257400</td>\n",
       "      <td>52.140873</td>\n",
       "      <td>52.657513</td>\n",
       "      <td>53.651051</td>\n",
       "      <td>51.604362</td>\n",
       "      <td>52.657513</td>\n",
       "    </tr>\n",
       "    <tr>\n",
       "      <th>2004-08-26</th>\n",
       "      <td>7148200</td>\n",
       "      <td>52.135906</td>\n",
       "      <td>53.606342</td>\n",
       "      <td>53.626213</td>\n",
       "      <td>51.991844</td>\n",
       "      <td>53.606342</td>\n",
       "    </tr>\n",
       "    <tr>\n",
       "      <th>2004-08-27</th>\n",
       "      <td>6258300</td>\n",
       "      <td>53.700729</td>\n",
       "      <td>52.732029</td>\n",
       "      <td>53.959049</td>\n",
       "      <td>52.503513</td>\n",
       "      <td>52.732029</td>\n",
       "    </tr>\n",
       "    <tr>\n",
       "      <th>2004-08-30</th>\n",
       "      <td>5235700</td>\n",
       "      <td>52.299839</td>\n",
       "      <td>50.675404</td>\n",
       "      <td>52.404160</td>\n",
       "      <td>50.675404</td>\n",
       "      <td>50.675404</td>\n",
       "    </tr>\n",
       "    <tr>\n",
       "      <th>2004-08-31</th>\n",
       "      <td>4954800</td>\n",
       "      <td>50.819469</td>\n",
       "      <td>50.854240</td>\n",
       "      <td>51.519913</td>\n",
       "      <td>50.749920</td>\n",
       "      <td>50.854240</td>\n",
       "    </tr>\n",
       "    <tr>\n",
       "      <th>2004-09-01</th>\n",
       "      <td>9206800</td>\n",
       "      <td>51.018177</td>\n",
       "      <td>49.801090</td>\n",
       "      <td>51.152302</td>\n",
       "      <td>49.512966</td>\n",
       "      <td>49.801090</td>\n",
       "    </tr>\n",
       "  </tbody>\n",
       "</table>\n",
       "</div>"
      ],
      "text/plain": [
       "              volume       open      close       high        low   adjclose\n",
       "date                                                                       \n",
       "2004-08-19  44994500  49.676899  49.845802  51.693783  47.669952  49.845802\n",
       "2004-08-20  23005800  50.178635  53.805050  54.187561  49.925285  53.805050\n",
       "2004-08-23  18393200  55.017166  54.346527  56.373344  54.172661  54.346527\n",
       "2004-08-24  15361800  55.260582  52.096165  55.439419  51.450363  52.096165\n",
       "2004-08-25   9257400  52.140873  52.657513  53.651051  51.604362  52.657513\n",
       "2004-08-26   7148200  52.135906  53.606342  53.626213  51.991844  53.606342\n",
       "2004-08-27   6258300  53.700729  52.732029  53.959049  52.503513  52.732029\n",
       "2004-08-30   5235700  52.299839  50.675404  52.404160  50.675404  50.675404\n",
       "2004-08-31   4954800  50.819469  50.854240  51.519913  50.749920  50.854240\n",
       "2004-09-01   9206800  51.018177  49.801090  51.152302  49.512966  49.801090"
      ]
     },
     "execution_count": 108,
     "metadata": {},
     "output_type": "execute_result"
    }
   ],
   "source": [
    "df = pd.read_csv('GOOG.csv' ,encoding='utf-8',nrows=100000)\n",
    "\n",
    "df[DATE]= pd.to_datetime(df[DATE]) \n",
    "df.head()\n",
    "df = df.set_index(DATE)\n",
    "df = df.sort_index()\n",
    "df.head(10)"
   ]
  },
  {
   "cell_type": "code",
   "execution_count": 109,
   "metadata": {},
   "outputs": [],
   "source": [
    "### Coverting into a multivariate timeseries data"
   ]
  },
  {
   "cell_type": "code",
   "execution_count": 110,
   "metadata": {},
   "outputs": [
    {
     "data": {
      "text/html": [
       "<div>\n",
       "<style scoped>\n",
       "    .dataframe tbody tr th:only-of-type {\n",
       "        vertical-align: middle;\n",
       "    }\n",
       "\n",
       "    .dataframe tbody tr th {\n",
       "        vertical-align: top;\n",
       "    }\n",
       "\n",
       "    .dataframe thead th {\n",
       "        text-align: right;\n",
       "    }\n",
       "</style>\n",
       "<table border=\"1\" class=\"dataframe\">\n",
       "  <thead>\n",
       "    <tr style=\"text-align: right;\">\n",
       "      <th></th>\n",
       "      <th>close</th>\n",
       "    </tr>\n",
       "    <tr>\n",
       "      <th>date</th>\n",
       "      <th></th>\n",
       "    </tr>\n",
       "  </thead>\n",
       "  <tbody>\n",
       "    <tr>\n",
       "      <th>2004-08-19</th>\n",
       "      <td>49.845802</td>\n",
       "    </tr>\n",
       "    <tr>\n",
       "      <th>2004-08-20</th>\n",
       "      <td>53.805050</td>\n",
       "    </tr>\n",
       "    <tr>\n",
       "      <th>2004-08-23</th>\n",
       "      <td>54.346527</td>\n",
       "    </tr>\n",
       "    <tr>\n",
       "      <th>2004-08-24</th>\n",
       "      <td>52.096165</td>\n",
       "    </tr>\n",
       "    <tr>\n",
       "      <th>2004-08-25</th>\n",
       "      <td>52.657513</td>\n",
       "    </tr>\n",
       "    <tr>\n",
       "      <th>2004-08-26</th>\n",
       "      <td>53.606342</td>\n",
       "    </tr>\n",
       "    <tr>\n",
       "      <th>2004-08-27</th>\n",
       "      <td>52.732029</td>\n",
       "    </tr>\n",
       "    <tr>\n",
       "      <th>2004-08-30</th>\n",
       "      <td>50.675404</td>\n",
       "    </tr>\n",
       "    <tr>\n",
       "      <th>2004-08-31</th>\n",
       "      <td>50.854240</td>\n",
       "    </tr>\n",
       "    <tr>\n",
       "      <th>2004-09-01</th>\n",
       "      <td>49.801090</td>\n",
       "    </tr>\n",
       "  </tbody>\n",
       "</table>\n",
       "</div>"
      ],
      "text/plain": [
       "                close\n",
       "date                 \n",
       "2004-08-19  49.845802\n",
       "2004-08-20  53.805050\n",
       "2004-08-23  54.346527\n",
       "2004-08-24  52.096165\n",
       "2004-08-25  52.657513\n",
       "2004-08-26  53.606342\n",
       "2004-08-27  52.732029\n",
       "2004-08-30  50.675404\n",
       "2004-08-31  50.854240\n",
       "2004-09-01  49.801090"
      ]
     },
     "execution_count": 110,
     "metadata": {},
     "output_type": "execute_result"
    }
   ],
   "source": [
    "df = df[[CLOSE_PRICE]]\n",
    "df[CLOSE_PRICE] =  df[CLOSE_PRICE].astype('float64')\n",
    "df.head(10)"
   ]
  },
  {
   "cell_type": "code",
   "execution_count": 111,
   "metadata": {},
   "outputs": [
    {
     "data": {
      "text/plain": [
       "<matplotlib.axes._subplots.AxesSubplot at 0x7fc45a9db4d0>"
      ]
     },
     "execution_count": 111,
     "metadata": {},
     "output_type": "execute_result"
    },
    {
     "data": {
      "image/png": "[encoded data removed]",
      "text/plain": [
       "<Figure size 1080x576 with 1 Axes>"
      ]
     },
     "metadata": {
      "needs_background": "light"
     },
     "output_type": "display_data"
    }
   ],
   "source": [
    "df.plot(use_index=True,figsize=(15,8))"
   ]
  },
  {
   "cell_type": "code",
   "execution_count": 112,
   "metadata": {},
   "outputs": [],
   "source": [
    "# transform scale\n",
    "data = df.values\n",
    "# data = X.reshape(len(X), 1)\n",
    "# scaler = MinMaxScaler(feature_range=(0, 1))\n",
    "# scaler = scaler.fit(data)\n",
    "# data = scaler.transform(data)\n",
    "# data[-10:]"
   ]
  },
  {
   "cell_type": "code",
   "execution_count": 113,
   "metadata": {},
   "outputs": [],
   "source": [
    "def split_sequence(sequence, n_steps_in, n_steps_out): \n",
    "    X, y = list(), list()\n",
    "    for i in range(len(sequence)):\n",
    "    # find the end of this pattern\n",
    "        end_ix = i + n_steps_in\n",
    "        out_end_ix = end_ix + n_steps_out\n",
    "        if out_end_ix > len(sequence):\n",
    "            break\n",
    "    # gather input and output parts of the pattern\n",
    "        seq_x, seq_y = sequence[i:end_ix], sequence[end_ix:out_end_ix]\n",
    "        X.append(seq_x)\n",
    "        y.append(seq_y)\n",
    "    return array(X), array(y)"
   ]
  },
  {
   "cell_type": "code",
   "execution_count": 114,
   "metadata": {},
   "outputs": [],
   "source": [
    "STEPS_IN = 30\n",
    "STEPS_OUT = 7\n",
    "X,y = split_sequence(data, STEPS_IN, STEPS_OUT)\n"
   ]
  },
  {
   "cell_type": "code",
   "execution_count": 115,
   "metadata": {},
   "outputs": [
    {
     "name": "stdout",
     "output_type": "stream",
     "text": [
      "(3656, 30, 1)\n",
      "(3656, 7, 1)\n"
     ]
    }
   ],
   "source": [
    "print(X.shape)\n",
    "print(y.shape)\n",
    "# for i in range(len(X)):\n",
    "#   print(X[i], y[i])"
   ]
  },
  {
   "cell_type": "code",
   "execution_count": 116,
   "metadata": {},
   "outputs": [],
   "source": [
    "# reshape from [samples, timesteps] into [samples, timesteps, features]"
   ]
  },
  {
   "cell_type": "code",
   "execution_count": 117,
   "metadata": {},
   "outputs": [
    {
     "data": {
      "text/plain": [
       "(3656, 30, 1)"
      ]
     },
     "execution_count": 117,
     "metadata": {},
     "output_type": "execute_result"
    }
   ],
   "source": [
    "n_features = 1\n",
    "X_transformed = X.reshape((X.shape[0], X.shape[1], n_features))\n",
    "X_transformed.shape"
   ]
  },
  {
   "cell_type": "markdown",
   "metadata": {},
   "source": [
    "### Model Definition"
   ]
  },
  {
   "cell_type": "code",
   "execution_count": 118,
   "metadata": {},
   "outputs": [],
   "source": [
    "# define model\n",
    "model = Sequential()\n",
    "model.add(LSTM(100, activation='relu', input_shape=(n_steps_in, n_features))) \n",
    "model.add(RepeatVector(n_steps_out))\n",
    "model.add(LSTM(100, activation='relu', return_sequences=True)) \n",
    "model.add(TimeDistributed(Dense(1)))\n",
    "model.compile(optimizer='adam', loss='mse')"
   ]
  },
  {
   "cell_type": "code",
   "execution_count": 119,
   "metadata": {},
   "outputs": [
    {
     "name": "stdout",
     "output_type": "stream",
     "text": [
      "Epoch 1/100\n",
      "3656/3656 [==============================] - 2s 620us/step - loss: 107314.6899\n",
      "Epoch 2/100\n",
      "3656/3656 [==============================] - 2s 456us/step - loss: 66673.9224\n",
      "Epoch 3/100\n",
      "3656/3656 [==============================] - 2s 451us/step - loss: 28864.5008\n",
      "Epoch 4/100\n",
      "3656/3656 [==============================] - 2s 452us/step - loss: 57662.3562\n",
      "Epoch 5/100\n",
      "3656/3656 [==============================] - 2s 454us/step - loss: 19744.1356\n",
      "Epoch 6/100\n",
      "3656/3656 [==============================] - 2s 456us/step - loss: 99639.4554\n",
      "Epoch 7/100\n",
      "3656/3656 [==============================] - 2s 456us/step - loss: 654159.7301\n",
      "Epoch 8/100\n",
      "3656/3656 [==============================] - 2s 459us/step - loss: 25187.0011\n",
      "Epoch 9/100\n",
      "3656/3656 [==============================] - 2s 458us/step - loss: 3115.6756\n",
      "Epoch 10/100\n",
      "3656/3656 [==============================] - 2s 456us/step - loss: 2222.3016\n",
      "Epoch 11/100\n",
      "3656/3656 [==============================] - 2s 460us/step - loss: 8138.3585\n",
      "Epoch 12/100\n",
      "3656/3656 [==============================] - 2s 456us/step - loss: 3159.0817\n",
      "Epoch 13/100\n",
      "3656/3656 [==============================] - 2s 456us/step - loss: 1793.9760\n",
      "Epoch 14/100\n",
      "3656/3656 [==============================] - 2s 462us/step - loss: 1664.7233\n",
      "Epoch 15/100\n",
      "3656/3656 [==============================] - 2s 453us/step - loss: 3914.5533\n",
      "Epoch 16/100\n",
      "3656/3656 [==============================] - 2s 457us/step - loss: 1590.0043\n",
      "Epoch 17/100\n",
      "3656/3656 [==============================] - 2s 461us/step - loss: 1537.2552\n",
      "Epoch 18/100\n",
      "3656/3656 [==============================] - 2s 459us/step - loss: 1338.2626\n",
      "Epoch 19/100\n",
      "3656/3656 [==============================] - 2s 459us/step - loss: 1233.1831\n",
      "Epoch 20/100\n",
      "3656/3656 [==============================] - 2s 465us/step - loss: 1253.8801\n",
      "Epoch 21/100\n",
      "3656/3656 [==============================] - 2s 462us/step - loss: 1229.2546\n",
      "Epoch 22/100\n",
      "3656/3656 [==============================] - 2s 461us/step - loss: 1179.9471\n",
      "Epoch 23/100\n",
      "3656/3656 [==============================] - 2s 469us/step - loss: 1214.8269\n",
      "Epoch 24/100\n",
      "3656/3656 [==============================] - 2s 456us/step - loss: 1119.3676\n",
      "Epoch 25/100\n",
      "3656/3656 [==============================] - 2s 462us/step - loss: 1086.7176\n",
      "Epoch 26/100\n",
      "3656/3656 [==============================] - 2s 468us/step - loss: 1126.7416\n",
      "Epoch 27/100\n",
      "3656/3656 [==============================] - 2s 460us/step - loss: 1250.0039\n",
      "Epoch 28/100\n",
      "3656/3656 [==============================] - 2s 461us/step - loss: 2606.3908\n",
      "Epoch 29/100\n",
      "3656/3656 [==============================] - 2s 466us/step - loss: 1289.2235\n",
      "Epoch 30/100\n",
      "3656/3656 [==============================] - 2s 463us/step - loss: 1244.1978\n",
      "Epoch 31/100\n",
      "3656/3656 [==============================] - 2s 465us/step - loss: 1190.0551\n",
      "Epoch 32/100\n",
      "3656/3656 [==============================] - 2s 479us/step - loss: 1214.6770\n",
      "Epoch 33/100\n",
      "3656/3656 [==============================] - 2s 467us/step - loss: 1194.9622\n",
      "Epoch 34/100\n",
      "3656/3656 [==============================] - 2s 466us/step - loss: 1106.9335\n",
      "Epoch 35/100\n",
      "3656/3656 [==============================] - 2s 471us/step - loss: 1163.1814\n",
      "Epoch 36/100\n",
      "3656/3656 [==============================] - 2s 466us/step - loss: 1164.8625\n",
      "Epoch 37/100\n",
      "3656/3656 [==============================] - 2s 491us/step - loss: 1099.3907\n",
      "Epoch 38/100\n",
      "3656/3656 [==============================] - 2s 467us/step - loss: 1137.0287\n",
      "Epoch 39/100\n",
      "3656/3656 [==============================] - 2s 465us/step - loss: 1041.2224\n",
      "Epoch 40/100\n",
      "3656/3656 [==============================] - 2s 468us/step - loss: 1081.7933\n",
      "Epoch 41/100\n",
      "3656/3656 [==============================] - 2s 467us/step - loss: 1204.4967\n",
      "Epoch 42/100\n",
      "3656/3656 [==============================] - 2s 479us/step - loss: 1181.5289\n",
      "Epoch 43/100\n",
      "3656/3656 [==============================] - 2s 474us/step - loss: 1138.1716\n",
      "Epoch 44/100\n",
      "3656/3656 [==============================] - 2s 478us/step - loss: 1066.4966\n",
      "Epoch 45/100\n",
      "3656/3656 [==============================] - 2s 472us/step - loss: 1060.7881\n",
      "Epoch 46/100\n",
      "3656/3656 [==============================] - 2s 471us/step - loss: 1101.4954\n",
      "Epoch 47/100\n",
      "3656/3656 [==============================] - 2s 466us/step - loss: 1233.4406\n",
      "Epoch 48/100\n",
      "3656/3656 [==============================] - 2s 468us/step - loss: 1285.1132\n",
      "Epoch 49/100\n",
      "3656/3656 [==============================] - 2s 471us/step - loss: 1102.4258\n",
      "Epoch 50/100\n",
      "3656/3656 [==============================] - 2s 465us/step - loss: 1163.9823\n",
      "Epoch 51/100\n",
      "3656/3656 [==============================] - 2s 468us/step - loss: 1038.0349\n",
      "Epoch 52/100\n",
      "3656/3656 [==============================] - 2s 475us/step - loss: 1069.6446\n",
      "Epoch 53/100\n",
      "3656/3656 [==============================] - 2s 469us/step - loss: 1186.9195\n",
      "Epoch 54/100\n",
      "3656/3656 [==============================] - 2s 464us/step - loss: 3310.7598\n",
      "Epoch 55/100\n",
      "3656/3656 [==============================] - 2s 467us/step - loss: 5975.9029\n",
      "Epoch 56/100\n",
      "3656/3656 [==============================] - 2s 463us/step - loss: 2412.2537\n",
      "Epoch 57/100\n",
      "3656/3656 [==============================] - 2s 463us/step - loss: 1784.7502\n",
      "Epoch 58/100\n",
      "3656/3656 [==============================] - 2s 471us/step - loss: 1548.0678\n",
      "Epoch 59/100\n",
      "3656/3656 [==============================] - 2s 469us/step - loss: 1434.3852\n",
      "Epoch 60/100\n",
      "3656/3656 [==============================] - 2s 473us/step - loss: 1421.1252\n",
      "Epoch 61/100\n",
      "3656/3656 [==============================] - 2s 472us/step - loss: 1530.6062\n",
      "Epoch 62/100\n",
      "3656/3656 [==============================] - 2s 468us/step - loss: 1474.5251\n",
      "Epoch 63/100\n",
      "3656/3656 [==============================] - 2s 470us/step - loss: 2459.1197\n",
      "Epoch 64/100\n",
      "3656/3656 [==============================] - 2s 471us/step - loss: 1211.8103\n",
      "Epoch 65/100\n",
      "3656/3656 [==============================] - 2s 471us/step - loss: 1222.7763\n",
      "Epoch 66/100\n",
      "3656/3656 [==============================] - 2s 472us/step - loss: 1138.0359\n",
      "Epoch 67/100\n",
      "3656/3656 [==============================] - 2s 469us/step - loss: 1198.9736\n",
      "Epoch 68/100\n",
      "3656/3656 [==============================] - 2s 473us/step - loss: 1140.3030\n",
      "Epoch 69/100\n",
      "3656/3656 [==============================] - 2s 474us/step - loss: 1171.6066\n",
      "Epoch 70/100\n",
      "3656/3656 [==============================] - 2s 471us/step - loss: 1174.3747\n",
      "Epoch 71/100\n",
      "3656/3656 [==============================] - 2s 471us/step - loss: 1131.3440\n",
      "Epoch 72/100\n",
      "3656/3656 [==============================] - 2s 473us/step - loss: 1216.6947\n",
      "Epoch 73/100\n",
      "3656/3656 [==============================] - 2s 469us/step - loss: 1128.0283\n",
      "Epoch 74/100\n",
      "3656/3656 [==============================] - 2s 469us/step - loss: 1143.5167\n",
      "Epoch 75/100\n",
      "3656/3656 [==============================] - 2s 479us/step - loss: 1212.7542\n",
      "Epoch 76/100\n",
      "3656/3656 [==============================] - 2s 473us/step - loss: 1178.7057\n",
      "Epoch 77/100\n",
      "3656/3656 [==============================] - 2s 472us/step - loss: 1154.8875\n",
      "Epoch 78/100\n",
      "3656/3656 [==============================] - 2s 472us/step - loss: 1136.7926\n",
      "Epoch 79/100\n",
      "3656/3656 [==============================] - 2s 472us/step - loss: 1125.1059\n",
      "Epoch 80/100\n",
      "3656/3656 [==============================] - 2s 467us/step - loss: 1139.0134\n",
      "Epoch 81/100\n",
      "3656/3656 [==============================] - 2s 472us/step - loss: 1129.2364\n",
      "Epoch 82/100\n",
      "3656/3656 [==============================] - 2s 467us/step - loss: 1184.9251\n",
      "Epoch 83/100\n",
      "3656/3656 [==============================] - 2s 479us/step - loss: 1146.0161\n",
      "Epoch 84/100\n",
      "3656/3656 [==============================] - 2s 477us/step - loss: 1256.3914\n",
      "Epoch 85/100\n",
      "3656/3656 [==============================] - 2s 471us/step - loss: 1218.0323\n",
      "Epoch 86/100\n",
      "3656/3656 [==============================] - 2s 474us/step - loss: 1203.0371\n",
      "Epoch 87/100\n",
      "3656/3656 [==============================] - 2s 476us/step - loss: 1151.6582\n",
      "Epoch 88/100\n",
      "3656/3656 [==============================] - 2s 469us/step - loss: 1146.3490\n",
      "Epoch 89/100\n",
      "3656/3656 [==============================] - 2s 473us/step - loss: 1139.4904\n",
      "Epoch 90/100\n",
      "3656/3656 [==============================] - 2s 472us/step - loss: 1102.2635\n",
      "Epoch 91/100\n",
      "3656/3656 [==============================] - 2s 468us/step - loss: 1164.3005\n",
      "Epoch 92/100\n"
     ]
    },
    {
     "name": "stdout",
     "output_type": "stream",
     "text": [
      "3656/3656 [==============================] - 2s 464us/step - loss: 1174.9465\n",
      "Epoch 93/100\n",
      "3656/3656 [==============================] - 2s 464us/step - loss: 1117.3944\n",
      "Epoch 94/100\n",
      "3656/3656 [==============================] - 2s 465us/step - loss: 1194.9731\n",
      "Epoch 95/100\n",
      "3656/3656 [==============================] - 2s 465us/step - loss: 1212.0412\n",
      "Epoch 96/100\n",
      "3656/3656 [==============================] - 2s 463us/step - loss: 1211.4555\n",
      "Epoch 97/100\n",
      "3656/3656 [==============================] - 2s 462us/step - loss: 1172.0876\n",
      "Epoch 98/100\n",
      "3656/3656 [==============================] - 2s 469us/step - loss: 1125.9441\n",
      "Epoch 99/100\n",
      "3656/3656 [==============================] - 2s 465us/step - loss: 1114.2190\n",
      "Epoch 100/100\n",
      "3656/3656 [==============================] - 2s 466us/step - loss: 1156.7744\n"
     ]
    },
    {
     "data": {
      "text/plain": [
       "<keras.callbacks.callbacks.History at 0x7fc45aae7d10>"
      ]
     },
     "execution_count": 119,
     "metadata": {},
     "output_type": "execute_result"
    }
   ],
   "source": [
    "# fit model\n",
    "model.fit(X, y, epochs=100, verbose=1)"
   ]
  },
  {
   "cell_type": "code",
   "execution_count": 128,
   "metadata": {},
   "outputs": [],
   "source": [
    "x_input = data[-67:-37]\n",
    "x_input = x_input.reshape((1, 30, 1))\n",
    "y = data[-37:-30]\n",
    "y_pred = model.predict(x_input, verbose=0).ravel()\n",
    "mse = np.mean((y - y_pred)**2)"
   ]
  },
  {
   "cell_type": "code",
   "execution_count": 129,
   "metadata": {},
   "outputs": [
    {
     "name": "stdout",
     "output_type": "stream",
     "text": [
      "[1105.3899 1106.7301 1100.4396 1109.8408 1111.1344 1114.2983 1116.3677]\n",
      "[[1116.05004883]\n",
      " [1119.92004395]\n",
      " [1140.98999023]\n",
      " [1147.80004883]\n",
      " [1162.0300293 ]\n",
      " [1157.85998535]\n",
      " [1143.30004883]]\n"
     ]
    }
   ],
   "source": [
    "print(y_pred)\n",
    "print(y)"
   ]
  },
  {
   "cell_type": "code",
   "execution_count": 130,
   "metadata": {},
   "outputs": [],
   "source": [
    "# range_y = list(range(0,7))"
   ]
  },
  {
   "cell_type": "code",
   "execution_count": 131,
   "metadata": {},
   "outputs": [
    {
     "data": {
      "image/png": "[encoded data removed]",
      "text/plain": [
       "<Figure size 1080x576 with 1 Axes>"
      ]
     },
     "metadata": {
      "needs_background": "light"
     },
     "output_type": "display_data"
    }
   ],
   "source": [
    "plt.figure(figsize=(15,8))\n",
    "plt.plot(y, label='actual_data')\n",
    "plt.plot(y_pred, label='predicted_data')\n",
    "plt.legend()\n",
    "plt.show()"
   ]
  },
  {
   "cell_type": "code",
   "execution_count": null,
   "metadata": {},
   "outputs": [],
   "source": []
  }
 ],
 "metadata": {
  "kernelspec": {
   "display_name": "Python 3.7.6 64-bit ('anaconda3': conda)",
   "language": "python",
   "name": "python37664bitanaconda3conda110d9871368d49528428b92d77c8955b"
  },
  "language_info": {
   "codemirror_mode": {
    "name": "ipython",
    "version": 3
   },
   "file_extension": ".py",
   "mimetype": "text/x-python",
   "name": "python",
   "nbconvert_exporter": "python",
   "pygments_lexer": "ipython3",
   "version": "3.7.6"
  }
 },
 "nbformat": 4,
 "nbformat_minor": 4
}
