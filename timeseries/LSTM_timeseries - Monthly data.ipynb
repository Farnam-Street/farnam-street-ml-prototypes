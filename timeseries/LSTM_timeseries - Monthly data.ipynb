{
 "cells": [
  {
   "cell_type": "code",
   "execution_count": 91,
   "metadata": {},
   "outputs": [],
   "source": [
    "import tensorflow\n",
    "import pandas as pd\n",
    "import matplotlib.pyplot as plt\n",
    "import numpy as np\n",
    "from math import sqrt\n",
    "from numpy import array\n",
    "from numpy import mean\n",
    "from pandas import DataFrame\n",
    "from pandas import concat\n",
    "from pandas import read_csv\n",
    "from sklearn.metrics import mean_squared_error\n",
    "from keras.models import Sequential\n",
    "from keras.layers import Dense\n",
    "from keras.layers import LSTM\n",
    "from sklearn.preprocessing import MinMaxScaler\n",
    "from datetime import datetime"
   ]
  },
  {
   "cell_type": "code",
   "execution_count": 60,
   "metadata": {},
   "outputs": [],
   "source": [
    "DATE = 'date'\n",
    "CLOSE_PRICE = 'close'"
   ]
  },
  {
   "cell_type": "markdown",
   "metadata": {},
   "source": [
    "### Reading Data from Product Demand Sample Data file and Filtering by One Product"
   ]
  },
  {
   "cell_type": "code",
   "execution_count": 61,
   "metadata": {},
   "outputs": [
    {
     "data": {
      "text/html": [
       "<div>\n",
       "<style scoped>\n",
       "    .dataframe tbody tr th:only-of-type {\n",
       "        vertical-align: middle;\n",
       "    }\n",
       "\n",
       "    .dataframe tbody tr th {\n",
       "        vertical-align: top;\n",
       "    }\n",
       "\n",
       "    .dataframe thead th {\n",
       "        text-align: right;\n",
       "    }\n",
       "</style>\n",
       "<table border=\"1\" class=\"dataframe\">\n",
       "  <thead>\n",
       "    <tr style=\"text-align: right;\">\n",
       "      <th></th>\n",
       "      <th>volume</th>\n",
       "      <th>open</th>\n",
       "      <th>close</th>\n",
       "      <th>high</th>\n",
       "      <th>low</th>\n",
       "      <th>adjclose</th>\n",
       "    </tr>\n",
       "    <tr>\n",
       "      <th>date</th>\n",
       "      <th></th>\n",
       "      <th></th>\n",
       "      <th></th>\n",
       "      <th></th>\n",
       "      <th></th>\n",
       "      <th></th>\n",
       "    </tr>\n",
       "  </thead>\n",
       "  <tbody>\n",
       "    <tr>\n",
       "      <th>2004-08-19</th>\n",
       "      <td>44994500</td>\n",
       "      <td>49.676899</td>\n",
       "      <td>49.845802</td>\n",
       "      <td>51.693783</td>\n",
       "      <td>47.669952</td>\n",
       "      <td>49.845802</td>\n",
       "    </tr>\n",
       "    <tr>\n",
       "      <th>2004-08-20</th>\n",
       "      <td>23005800</td>\n",
       "      <td>50.178635</td>\n",
       "      <td>53.805050</td>\n",
       "      <td>54.187561</td>\n",
       "      <td>49.925285</td>\n",
       "      <td>53.805050</td>\n",
       "    </tr>\n",
       "    <tr>\n",
       "      <th>2004-08-23</th>\n",
       "      <td>18393200</td>\n",
       "      <td>55.017166</td>\n",
       "      <td>54.346527</td>\n",
       "      <td>56.373344</td>\n",
       "      <td>54.172661</td>\n",
       "      <td>54.346527</td>\n",
       "    </tr>\n",
       "    <tr>\n",
       "      <th>2004-08-24</th>\n",
       "      <td>15361800</td>\n",
       "      <td>55.260582</td>\n",
       "      <td>52.096165</td>\n",
       "      <td>55.439419</td>\n",
       "      <td>51.450363</td>\n",
       "      <td>52.096165</td>\n",
       "    </tr>\n",
       "    <tr>\n",
       "      <th>2004-08-25</th>\n",
       "      <td>9257400</td>\n",
       "      <td>52.140873</td>\n",
       "      <td>52.657513</td>\n",
       "      <td>53.651051</td>\n",
       "      <td>51.604362</td>\n",
       "      <td>52.657513</td>\n",
       "    </tr>\n",
       "    <tr>\n",
       "      <th>2004-08-26</th>\n",
       "      <td>7148200</td>\n",
       "      <td>52.135906</td>\n",
       "      <td>53.606342</td>\n",
       "      <td>53.626213</td>\n",
       "      <td>51.991844</td>\n",
       "      <td>53.606342</td>\n",
       "    </tr>\n",
       "    <tr>\n",
       "      <th>2004-08-27</th>\n",
       "      <td>6258300</td>\n",
       "      <td>53.700729</td>\n",
       "      <td>52.732029</td>\n",
       "      <td>53.959049</td>\n",
       "      <td>52.503513</td>\n",
       "      <td>52.732029</td>\n",
       "    </tr>\n",
       "    <tr>\n",
       "      <th>2004-08-30</th>\n",
       "      <td>5235700</td>\n",
       "      <td>52.299839</td>\n",
       "      <td>50.675404</td>\n",
       "      <td>52.404160</td>\n",
       "      <td>50.675404</td>\n",
       "      <td>50.675404</td>\n",
       "    </tr>\n",
       "    <tr>\n",
       "      <th>2004-08-31</th>\n",
       "      <td>4954800</td>\n",
       "      <td>50.819469</td>\n",
       "      <td>50.854240</td>\n",
       "      <td>51.519913</td>\n",
       "      <td>50.749920</td>\n",
       "      <td>50.854240</td>\n",
       "    </tr>\n",
       "    <tr>\n",
       "      <th>2004-09-01</th>\n",
       "      <td>9206800</td>\n",
       "      <td>51.018177</td>\n",
       "      <td>49.801090</td>\n",
       "      <td>51.152302</td>\n",
       "      <td>49.512966</td>\n",
       "      <td>49.801090</td>\n",
       "    </tr>\n",
       "  </tbody>\n",
       "</table>\n",
       "</div>"
      ],
      "text/plain": [
       "              volume       open      close       high        low   adjclose\n",
       "date                                                                       \n",
       "2004-08-19  44994500  49.676899  49.845802  51.693783  47.669952  49.845802\n",
       "2004-08-20  23005800  50.178635  53.805050  54.187561  49.925285  53.805050\n",
       "2004-08-23  18393200  55.017166  54.346527  56.373344  54.172661  54.346527\n",
       "2004-08-24  15361800  55.260582  52.096165  55.439419  51.450363  52.096165\n",
       "2004-08-25   9257400  52.140873  52.657513  53.651051  51.604362  52.657513\n",
       "2004-08-26   7148200  52.135906  53.606342  53.626213  51.991844  53.606342\n",
       "2004-08-27   6258300  53.700729  52.732029  53.959049  52.503513  52.732029\n",
       "2004-08-30   5235700  52.299839  50.675404  52.404160  50.675404  50.675404\n",
       "2004-08-31   4954800  50.819469  50.854240  51.519913  50.749920  50.854240\n",
       "2004-09-01   9206800  51.018177  49.801090  51.152302  49.512966  49.801090"
      ]
     },
     "execution_count": 61,
     "metadata": {},
     "output_type": "execute_result"
    }
   ],
   "source": [
    "df = pd.read_csv('data/GOOG.csv' ,encoding='utf-8',nrows=100000)\n",
    "\n",
    "df[DATE]= pd.to_datetime(df[DATE]) \n",
    "df.head()\n",
    "df = df.set_index(DATE)\n",
    "df = df.sort_index()\n",
    "df.head(10)"
   ]
  },
  {
   "cell_type": "markdown",
   "metadata": {},
   "source": [
    "### Coverting into a univariate timeseries data"
   ]
  },
  {
   "cell_type": "code",
   "execution_count": 62,
   "metadata": {},
   "outputs": [],
   "source": [
    "df = df[[CLOSE_PRICE]]\n",
    "df[CLOSE_PRICE] =  df[CLOSE_PRICE].astype('float64')\n",
    "df.head(10)\n",
    "complete_df = df"
   ]
  },
  {
   "cell_type": "markdown",
   "metadata": {},
   "source": [
    "### only picking up starting of months"
   ]
  },
  {
   "cell_type": "code",
   "execution_count": 63,
   "metadata": {},
   "outputs": [],
   "source": [
    "df = df[df.index.day == 1]"
   ]
  },
  {
   "cell_type": "code",
   "execution_count": 64,
   "metadata": {},
   "outputs": [
    {
     "data": {
      "text/plain": [
       "115"
      ]
     },
     "execution_count": 64,
     "metadata": {},
     "output_type": "execute_result"
    }
   ],
   "source": [
    "len(df)"
   ]
  },
  {
   "cell_type": "code",
   "execution_count": null,
   "metadata": {},
   "outputs": [],
   "source": []
  },
  {
   "cell_type": "code",
   "execution_count": 65,
   "metadata": {},
   "outputs": [
    {
     "data": {
      "text/plain": [
       "<matplotlib.axes._subplots.AxesSubplot at 0x2516585d198>"
      ]
     },
     "execution_count": 65,
     "metadata": {},
     "output_type": "execute_result"
    },
    {
     "data": {
      "image/png": "[encoded data removed]",
      "text/plain": [
       "<Figure size 1080x576 with 1 Axes>"
      ]
     },
     "metadata": {
      "needs_background": "light"
     },
     "output_type": "display_data"
    }
   ],
   "source": [
    "df.plot(use_index=True,figsize=(15,8))"
   ]
  },
  {
   "cell_type": "code",
   "execution_count": 38,
   "metadata": {},
   "outputs": [
    {
     "data": {
      "text/plain": [
       "array([[0.91059706],\n",
       "       [0.74279808],\n",
       "       [0.68774815],\n",
       "       [0.82821869],\n",
       "       [1.        ],\n",
       "       [0.9577854 ],\n",
       "       [0.74361841],\n",
       "       [0.8132641 ],\n",
       "       [0.86494716],\n",
       "       [0.95628139]])"
      ]
     },
     "execution_count": 38,
     "metadata": {},
     "output_type": "execute_result"
    }
   ],
   "source": [
    "# transform scale\n",
    "X = df.values\n",
    "X = X.reshape(len(X), 1)\n",
    "scaler = MinMaxScaler(feature_range=(-1, 1))\n",
    "scaler = scaler.fit(X)\n",
    "scaled_X = scaler.transform(X)\n",
    "scaled_X[-10:]"
   ]
  },
  {
   "cell_type": "code",
   "execution_count": 39,
   "metadata": {},
   "outputs": [
    {
     "data": {
      "text/plain": [
       "array([[1167.69995117],\n",
       "       [1069.52001953],\n",
       "       [1037.31005859],\n",
       "       [1119.5       ],\n",
       "       [1220.01000977],\n",
       "       [1195.31005859],\n",
       "       [1070.        ],\n",
       "       [1110.75      ],\n",
       "       [1140.98999023],\n",
       "       [1194.43005371]])"
      ]
     },
     "execution_count": 39,
     "metadata": {},
     "output_type": "execute_result"
    }
   ],
   "source": [
    "# invert transform\n",
    "inverted_X = scaler.inverse_transform(scaled_X)\n",
    "inverted_X[-10:]"
   ]
  },
  {
   "cell_type": "markdown",
   "metadata": {},
   "source": [
    "### Split Data Set into Sequences for input"
   ]
  },
  {
   "cell_type": "code",
   "execution_count": 40,
   "metadata": {},
   "outputs": [],
   "source": [
    "def split_sequences(data,input_size, output_size=1):\n",
    "    df = DataFrame(data)\n",
    "    cols = list()\n",
    "    for i in range(input_size, 0, -1):\n",
    "        cols.append(df.shift(i))\n",
    "    for i in range(0, output_size):\n",
    "        cols.append(df.shift(-i))\n",
    "\n",
    "    agg = concat(cols, axis=1)\n",
    "    agg.dropna(inplace=True)\n",
    "    return agg.values\n",
    "\n",
    "#split the dataset into train and test\n",
    "def train_test_split(data, n_test):\n",
    "    return data[:-n_test], data[-n_test:]\n",
    "\n",
    "#measure error\n",
    "def rmse(actual, predicted):\n",
    "    return sqrt(mean_squared_error(actual, predicted))"
   ]
  },
  {
   "cell_type": "code",
   "execution_count": 41,
   "metadata": {},
   "outputs": [],
   "source": [
    "# Caluculating difference between two lag data points , where order tells the distance between them \n",
    "def difference(data, order):\n",
    "    return [data[i] - data[i - order] for i in range(order, len(data))]\n"
   ]
  },
  {
   "cell_type": "code",
   "execution_count": 42,
   "metadata": {},
   "outputs": [],
   "source": [
    "# create a differenced series\n",
    "# def difference(dataset, interval=1):\n",
    "#     diff = list()\n",
    "#     for i in range(interval, len(dataset)):\n",
    "#         value = dataset[i] - dataset[i - interval]\n",
    "#         diff.append(value)\n",
    "#     return Series(diff)\n",
    "\n",
    "# invert differenced value\n",
    "def inverse_difference(history, yhat, interval=1):\n",
    "    return yhat + history[-interval]"
   ]
  },
  {
   "cell_type": "markdown",
   "metadata": {},
   "source": [
    "###  Model Definition"
   ]
  },
  {
   "cell_type": "code",
   "execution_count": 43,
   "metadata": {},
   "outputs": [],
   "source": [
    "def model_fit(train_data, config):\n",
    "    n_input, n_nodes, n_epochs, n_batch, n_diff = config\n",
    "    # n_diff tells us to consider the training set which just tells the difference between historical data points\n",
    "    if n_diff > 0:\n",
    "        train = difference(train_data, n_diff)\n",
    "        \n",
    "    data = split_sequences(train, input_size=n_input)\n",
    "    # From the split sequences function the last piece is always the univariate output that we want. \n",
    "    train_x, train_y = data[:, :-1], data[:, -1]\n",
    "    #number of output features\n",
    "    n_features = 1\n",
    "    # Convert the input data into 3D array as input for the neural net\n",
    "    train_x = train_x.reshape((train_x.shape[0], train_x.shape[1], n_features))\n",
    "    # Model Architecture\n",
    "    model = Sequential()\n",
    "    model.add(LSTM(n_nodes, activation='relu', input_shape=(n_input, n_features)))\n",
    "    model.add(Dense(n_nodes, activation='relu'))\n",
    "    model.add(Dense(1))\n",
    "    model.compile(loss='mse', optimizer='adam')\n",
    "    # we can set verbose to 1, if we want to see the output\n",
    "    model.fit(train_x, train_y, epochs=n_epochs, batch_size=n_batch, verbose=0)\n",
    "    return model"
   ]
  },
  {
   "cell_type": "markdown",
   "metadata": {},
   "source": [
    "### Predict Single Step"
   ]
  },
  {
   "cell_type": "code",
   "execution_count": 44,
   "metadata": {},
   "outputs": [],
   "source": [
    "def model_predict(model, history, config):\n",
    "    # unpack config\n",
    "    n_input, _, _, _, n_diff = config\n",
    "    correction = 0.0\n",
    "    #convert back the differenced data into its orginal form\n",
    "    if n_diff > 0:\n",
    "        correction = history[-n_diff]\n",
    "        history = difference(history, n_diff)\n",
    "    #model can only pick up input in form of the nueral net structure\n",
    "    x_input = array(history[-n_input:]).reshape((1, n_input, 1))\n",
    "    forecast = model.predict(x_input, verbose=0)\n",
    "    return correction + forecast[0]"
   ]
  },
  {
   "cell_type": "markdown",
   "metadata": {},
   "source": [
    "### Walk Forward"
   ]
  },
  {
   "cell_type": "code",
   "execution_count": 45,
   "metadata": {},
   "outputs": [],
   "source": [
    "def walk_forward(data, n_test, cfg):\n",
    "    predictions = list()\n",
    "    # split dataset\n",
    "    train, test = train_test_split(data, n_test)\n",
    "    # fit model\n",
    "    model = model_fit(train, cfg)\n",
    "    # seed history with training dataset\n",
    "    history = [x for x in train]\n",
    "    # step over each time-step in the test set\n",
    "    for i in range(len(test)):\n",
    "        # fit model and make forecast for history\n",
    "        prediction = model_predict(model, history, cfg)\n",
    "        predictions.append(prediction)\n",
    "        history.append(test[i])\n",
    "    return test,predictions\n",
    "\n",
    "def walk_forward_validation(data, n_test, cfg):\n",
    "    test, predictions = walk_forward(data, n_test, cfg)\n",
    "    # estimate prediction error\n",
    "    error = rmse(test, predictions)\n",
    "    print(' > %.3f' % error)\n",
    "    return error\n",
    "\n",
    "def walk_forward_visualization(data,n_test,cfg):\n",
    "    print(cfg)\n",
    "    test, predictions = walk_forward(data, n_test, cfg)\n",
    "    # Plot to visualize actual vs predicted\n",
    "    plt.figure(figsize=(15,8))\n",
    "    plt.plot(test, label='actual_data')\n",
    "    plt.plot(predictions, label='predicted_data')\n",
    "    plt.legend()\n",
    "    plt.show()"
   ]
  },
  {
   "cell_type": "markdown",
   "metadata": {},
   "source": [
    "### Design Grid Search System"
   ]
  },
  {
   "cell_type": "code",
   "execution_count": 111,
   "metadata": {},
   "outputs": [],
   "source": [
    "# score a model, return None on failure\n",
    "def repeat_evaluate(data, config, n_test, n_repeats=10):\n",
    "    # convert config to a key\n",
    "    key = str(config)\n",
    "    # fit and evaluate the model n times\n",
    "    scores = [walk_forward_validation(data, n_test, config) for _ in range(n_repeats)]\n",
    "    # summarize score\n",
    "    result = mean(scores)\n",
    "    print('> Model[%s] %.3f' % (key, result))\n",
    "    return (key, result)\n",
    "\n",
    "# grid search configs\n",
    "def grid_search(data, cfg_list, n_test):\n",
    "    scores = [repeat_evaluate(data, cfg, n_test) for cfg in cfg_list]\n",
    "    scores.sort(key=lambda tup: tup[1])\n",
    "    return scores\n",
    "#defininig all the hyper parameters\n",
    "def model_configs():\n",
    "    n_input = [1,3,6]\n",
    "    n_nodes = [8,16]\n",
    "    n_epochs = [10,100]\n",
    "    n_batch = [16,32]\n",
    "    n_diff = [1]\n",
    "    # create configs\n",
    "    #try all the configurations using grid search\n",
    "    configs = list()\n",
    "    for i in n_input:\n",
    "        for j in n_nodes:\n",
    "            for k in n_epochs:\n",
    "                for l in n_batch:\n",
    "                    for m in n_diff:\n",
    "                        cfg = [i, j, k, l, m]\n",
    "                        configs.append(cfg)\n",
    "    print('Total configs: %d' % len(configs))\n",
    "    return configs"
   ]
  },
  {
   "cell_type": "markdown",
   "metadata": {},
   "source": [
    "### Overlay monthly predictions with daily activity"
   ]
  },
  {
   "cell_type": "code",
   "execution_count": 112,
   "metadata": {},
   "outputs": [],
   "source": [
    "def monthly_test_daily_overview(test_month_start,test_month_end):\n",
    "    return df.loc[test_month_start:]\n",
    "#     print(datetime.strptime(test_month_start,'%Y-%m-%d').date())\n",
    "#     print(df.index)\n",
    "#     return df[df.index == datetime.strptime(test_month_start,'%Y-%m-%d').date()]\n",
    "        \n",
    "    "
   ]
  },
  {
   "cell_type": "code",
   "execution_count": 113,
   "metadata": {},
   "outputs": [
    {
     "data": {
      "text/html": [
       "<div>\n",
       "<style scoped>\n",
       "    .dataframe tbody tr th:only-of-type {\n",
       "        vertical-align: middle;\n",
       "    }\n",
       "\n",
       "    .dataframe tbody tr th {\n",
       "        vertical-align: top;\n",
       "    }\n",
       "\n",
       "    .dataframe thead th {\n",
       "        text-align: right;\n",
       "    }\n",
       "</style>\n",
       "<table border=\"1\" class=\"dataframe\">\n",
       "  <thead>\n",
       "    <tr style=\"text-align: right;\">\n",
       "      <th></th>\n",
       "      <th>close</th>\n",
       "    </tr>\n",
       "    <tr>\n",
       "      <th>date</th>\n",
       "      <th></th>\n",
       "    </tr>\n",
       "  </thead>\n",
       "  <tbody>\n",
       "    <tr>\n",
       "      <th>2019-02-01</th>\n",
       "      <td>1110.750000</td>\n",
       "    </tr>\n",
       "    <tr>\n",
       "      <th>2019-03-01</th>\n",
       "      <td>1140.989990</td>\n",
       "    </tr>\n",
       "    <tr>\n",
       "      <th>2019-04-01</th>\n",
       "      <td>1194.430054</td>\n",
       "    </tr>\n",
       "  </tbody>\n",
       "</table>\n",
       "</div>"
      ],
      "text/plain": [
       "                  close\n",
       "date                   \n",
       "2019-02-01  1110.750000\n",
       "2019-03-01  1140.989990\n",
       "2019-04-01  1194.430054"
      ]
     },
     "execution_count": 113,
     "metadata": {},
     "output_type": "execute_result"
    }
   ],
   "source": [
    "monthly_test_daily_overview('2019-01-01','2019-01-02')"
   ]
  },
  {
   "cell_type": "markdown",
   "metadata": {},
   "source": [
    "### Kick off Grid Search    "
   ]
  },
  {
   "cell_type": "code",
   "execution_count": 114,
   "metadata": {},
   "outputs": [
    {
     "name": "stdout",
     "output_type": "stream",
     "text": [
      "Total configs: 24\n",
      " > 0.117\n",
      " > 0.116\n",
      " > 0.116\n",
      " > 0.116\n",
      " > 0.116\n",
      " > 0.115\n",
      " > 0.116\n",
      " > 0.117\n",
      " > 0.115\n",
      " > 0.115\n",
      "> Model[[1, 8, 10, 16, 1]] 0.116\n",
      " > 0.116\n",
      " > 0.116\n",
      " > 0.116\n",
      " > 0.116\n",
      " > 0.117\n",
      " > 0.115\n",
      " > 0.116\n",
      " > 0.116\n",
      " > 0.116\n",
      " > 0.116\n",
      "> Model[[1, 8, 10, 32, 1]] 0.116\n",
      " > 0.116\n",
      " > 0.116\n",
      " > 0.117\n",
      " > 0.116\n",
      " > 0.116\n",
      " > 0.116\n",
      " > 0.116\n",
      " > 0.117\n",
      " > 0.117\n",
      " > 0.115\n",
      "> Model[[1, 8, 100, 16, 1]] 0.116\n",
      " > 0.116\n",
      " > 0.115\n",
      " > 0.115\n",
      " > 0.116\n",
      " > 0.116\n",
      " > 0.115\n",
      " > 0.116\n",
      " > 0.116\n",
      " > 0.116\n",
      " > 0.116\n",
      "> Model[[1, 8, 100, 32, 1]] 0.116\n",
      " > 0.116\n",
      " > 0.117\n",
      " > 0.116\n",
      " > 0.115\n",
      " > 0.116\n",
      " > 0.116\n",
      " > 0.116\n",
      " > 0.116\n",
      " > 0.116\n",
      " > 0.115\n",
      "> Model[[1, 16, 10, 16, 1]] 0.116\n",
      " > 0.116\n",
      " > 0.116\n",
      " > 0.116\n",
      " > 0.116\n",
      " > 0.116\n",
      " > 0.117\n",
      " > 0.116\n",
      " > 0.117\n",
      " > 0.116\n",
      " > 0.116\n",
      "> Model[[1, 16, 10, 32, 1]] 0.116\n",
      " > 0.114\n",
      " > 0.115\n",
      " > 0.116\n",
      " > 0.115\n",
      " > 0.115\n",
      " > 0.116\n",
      " > 0.116\n",
      " > 0.116\n",
      " > 0.116\n",
      " > 0.115\n",
      "> Model[[1, 16, 100, 16, 1]] 0.115\n",
      " > 0.116\n",
      " > 0.115\n",
      " > 0.116\n",
      " > 0.116\n",
      " > 0.115\n",
      " > 0.115\n",
      " > 0.115\n",
      " > 0.116\n",
      " > 0.116\n",
      " > 0.115\n",
      "> Model[[1, 16, 100, 32, 1]] 0.115\n",
      " > 0.114\n",
      " > 0.116\n",
      " > 0.116\n",
      " > 0.118\n",
      " > 0.114\n",
      " > 0.116\n",
      " > 0.115\n",
      " > 0.115\n",
      " > 0.115\n",
      " > 0.114\n",
      "> Model[[3, 8, 10, 16, 1]] 0.115\n",
      " > 0.115\n",
      " > 0.114\n",
      " > 0.116\n",
      " > 0.115\n",
      " > 0.116\n",
      " > 0.116\n",
      " > 0.115\n",
      " > 0.116\n",
      " > 0.113\n",
      " > 0.116\n",
      "> Model[[3, 8, 10, 32, 1]] 0.115\n",
      " > 0.113\n",
      " > 0.113\n",
      " > 0.116\n",
      " > 0.112\n",
      " > 0.116\n",
      " > 0.112\n",
      " > 0.114\n",
      " > 0.115\n",
      " > 0.115\n",
      " > 0.114\n",
      "> Model[[3, 8, 100, 16, 1]] 0.114\n",
      " > 0.115\n",
      " > 0.113\n",
      " > 0.113\n",
      " > 0.113\n",
      " > 0.115\n",
      " > 0.115\n",
      " > 0.114\n",
      " > 0.113\n",
      " > 0.114\n",
      " > 0.114\n",
      "> Model[[3, 8, 100, 32, 1]] 0.114\n",
      " > 0.116\n",
      " > 0.114\n",
      " > 0.115\n",
      " > 0.116\n",
      " > 0.115\n",
      " > 0.116\n",
      " > 0.114\n",
      " > 0.115\n",
      " > 0.116\n",
      " > 0.116\n",
      "> Model[[3, 16, 10, 16, 1]] 0.115\n",
      " > 0.116\n",
      " > 0.116\n",
      " > 0.114\n",
      " > 0.115\n",
      " > 0.115\n",
      " > 0.114\n",
      " > 0.115\n",
      " > 0.114\n",
      " > 0.117\n",
      " > 0.115\n",
      "> Model[[3, 16, 10, 32, 1]] 0.115\n",
      " > 0.113\n",
      " > 0.115\n",
      " > 0.115\n",
      " > 0.115\n",
      " > 0.113\n",
      " > 0.113\n",
      " > 0.116\n",
      " > 0.115\n",
      " > 0.114\n",
      " > 0.116\n",
      "> Model[[3, 16, 100, 16, 1]] 0.114\n",
      " > 0.115\n",
      " > 0.113\n",
      " > 0.115\n",
      " > 0.114\n",
      " > 0.115\n",
      " > 0.115\n",
      " > 0.116\n",
      " > 0.115\n",
      " > 0.113\n",
      " > 0.116\n",
      "> Model[[3, 16, 100, 32, 1]] 0.115\n",
      " > 0.117\n",
      " > 0.119\n",
      " > 0.117\n",
      " > 0.116\n",
      " > 0.116\n",
      " > 0.117\n",
      " > 0.115\n",
      " > 0.116\n",
      " > 0.116\n",
      " > 0.117\n",
      "> Model[[6, 8, 10, 16, 1]] 0.116\n",
      " > 0.117\n",
      " > 0.116\n",
      " > 0.117\n",
      " > 0.115\n",
      " > 0.115\n",
      " > 0.117\n",
      " > 0.115\n",
      " > 0.116\n",
      " > 0.116\n",
      " > 0.116\n",
      "> Model[[6, 8, 10, 32, 1]] 0.116\n",
      " > 0.120\n",
      " > 0.123\n",
      " > 0.124\n",
      " > 0.120\n",
      " > 0.123\n",
      " > 0.118\n",
      " > 0.117\n",
      " > 0.121\n",
      " > 0.116\n",
      " > 0.124\n",
      "> Model[[6, 8, 100, 16, 1]] 0.121\n",
      " > 0.117\n",
      " > 0.119\n",
      " > 0.119\n",
      " > 0.115\n",
      " > 0.120\n",
      " > 0.118\n",
      " > 0.120\n",
      " > 0.121\n",
      " > 0.124\n",
      " > 0.120\n",
      "> Model[[6, 8, 100, 32, 1]] 0.119\n",
      " > 0.115\n",
      " > 0.117\n",
      " > 0.114\n",
      " > 0.117\n",
      " > 0.117\n",
      " > 0.115\n",
      " > 0.115\n",
      " > 0.116\n",
      " > 0.116\n",
      " > 0.115\n",
      "> Model[[6, 16, 10, 16, 1]] 0.116\n",
      " > 0.117\n",
      " > 0.115\n",
      " > 0.116\n",
      " > 0.116\n",
      " > 0.117\n",
      " > 0.115\n",
      " > 0.115\n",
      " > 0.116\n",
      " > 0.115\n",
      " > 0.116\n",
      "> Model[[6, 16, 10, 32, 1]] 0.116\n",
      " > 0.123\n",
      " > 0.121\n",
      " > 0.127\n",
      " > 0.124\n",
      " > 0.130\n",
      " > 0.132\n",
      " > 0.121\n",
      " > 0.124\n",
      " > 0.124\n",
      " > 0.126\n",
      "> Model[[6, 16, 100, 16, 1]] 0.125\n",
      " > 0.120\n",
      " > 0.119\n",
      " > 0.122\n",
      " > 0.125\n",
      " > 0.125\n",
      " > 0.121\n",
      " > 0.124\n",
      " > 0.124\n",
      " > 0.124\n",
      " > 0.122\n",
      "> Model[[6, 16, 100, 32, 1]] 0.123\n",
      "grid search done\n",
      "[3, 8, 100, 32, 1] 0.1139920232257792\n",
      "[3, 8, 100, 16, 1] 0.11409653519551846\n",
      "[3, 16, 100, 16, 1] 0.11447665402217044\n"
     ]
    }
   ],
   "source": [
    "n_test = 20\n",
    "# model configs\n",
    "data = scaled_X\n",
    "cfg_list = model_configs()\n",
    "# grid search\n",
    "scores = grid_search(data, cfg_list, n_test)\n",
    "print('grid search done')\n",
    "# list top 3 configs to visualize\n",
    "for cfg, error in scores[:3]:\n",
    "    print(cfg, error)"
   ]
  },
  {
   "cell_type": "code",
   "execution_count": 51,
   "metadata": {},
   "outputs": [
    {
     "name": "stdout",
     "output_type": "stream",
     "text": [
      "[3, 16, 100, 32, 1]\n"
     ]
    },
    {
     "data": {
      "image/png": "[encoded data removed]",
      "text/plain": [
       "<Figure size 1080x576 with 1 Axes>"
      ]
     },
     "metadata": {
      "needs_background": "light"
     },
     "output_type": "display_data"
    }
   ],
   "source": [
    "walk_forward_visualization(scaled_X, 100, [3, 16, 100, 32, 1])"
   ]
  },
  {
   "cell_type": "code",
   "execution_count": 57,
   "metadata": {},
   "outputs": [
    {
     "ename": "UnboundLocalError",
     "evalue": "local variable 'df' referenced before assignment",
     "output_type": "error",
     "traceback": [
      "\u001b[1;31m---------------------------------------------------------------------------\u001b[0m",
      "\u001b[1;31mUnboundLocalError\u001b[0m                         Traceback (most recent call last)",
      "\u001b[1;32m<ipython-input-57-1d6181c4ef53>\u001b[0m in \u001b[0;36m<module>\u001b[1;34m\u001b[0m\n\u001b[1;32m----> 1\u001b[1;33m \u001b[0mmonthly_test_daily_overview\u001b[0m\u001b[1;33m(\u001b[0m\u001b[1;34m'2019-01-01'\u001b[0m\u001b[1;33m,\u001b[0m\u001b[1;34m'2019-01-02'\u001b[0m\u001b[1;33m)\u001b[0m\u001b[1;33m\u001b[0m\u001b[0m\n\u001b[0m",
      "\u001b[1;32m<ipython-input-56-1424b650b815>\u001b[0m in \u001b[0;36mmonthly_test_daily_overview\u001b[1;34m(test_month_start, test_month_end)\u001b[0m\n\u001b[0;32m      1\u001b[0m \u001b[1;32mdef\u001b[0m \u001b[0mmonthly_test_daily_overview\u001b[0m\u001b[1;33m(\u001b[0m\u001b[0mtest_month_start\u001b[0m\u001b[1;33m,\u001b[0m\u001b[0mtest_month_end\u001b[0m\u001b[1;33m)\u001b[0m\u001b[1;33m:\u001b[0m\u001b[1;33m\u001b[0m\u001b[0m\n\u001b[1;32m----> 2\u001b[1;33m     \u001b[0mdf\u001b[0m \u001b[1;33m=\u001b[0m \u001b[0mdf\u001b[0m\u001b[1;33m[\u001b[0m\u001b[0mdf\u001b[0m\u001b[1;33m.\u001b[0m\u001b[0mindex\u001b[0m\u001b[1;33m.\u001b[0m\u001b[0mday\u001b[0m \u001b[1;33m==\u001b[0m \u001b[1;36m1\u001b[0m\u001b[1;33m]\u001b[0m\u001b[1;33m\u001b[0m\u001b[0m\n\u001b[0m\u001b[0;32m      3\u001b[0m     \u001b[1;32mpass\u001b[0m\u001b[1;33m\u001b[0m\u001b[0m\n\u001b[0;32m      4\u001b[0m \u001b[1;33m\u001b[0m\u001b[0m\n",
      "\u001b[1;31mUnboundLocalError\u001b[0m: local variable 'df' referenced before assignment"
     ]
    }
   ],
   "source": [
    "monthly_test_daily_overview('2019-01-01','2019-01-02')"
   ]
  },
  {
   "cell_type": "code",
   "execution_count": null,
   "metadata": {},
   "outputs": [],
   "source": []
  },
  {
   "cell_type": "code",
   "execution_count": null,
   "metadata": {},
   "outputs": [],
   "source": []
  },
  {
   "cell_type": "code",
   "execution_count": null,
   "metadata": {},
   "outputs": [],
   "source": []
  }
 ],
 "metadata": {
  "kernelspec": {
   "display_name": "Python 3",
   "language": "python",
   "name": "python3"
  },
  "language_info": {
   "codemirror_mode": {
    "name": "ipython",
    "version": 3
   },
   "file_extension": ".py",
   "mimetype": "text/x-python",
   "name": "python",
   "nbconvert_exporter": "python",
   "pygments_lexer": "ipython3",
   "version": "3.6.3"
  }
 },
 "nbformat": 4,
 "nbformat_minor": 2
}
